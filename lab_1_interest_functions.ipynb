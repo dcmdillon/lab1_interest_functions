{
  "nbformat": 4,
  "nbformat_minor": 0,
  "metadata": {
    "kernelspec": {
      "display_name": "Python 3",
      "language": "python",
      "name": "python3"
    },
    "language_info": {
      "codemirror_mode": {
        "name": "ipython",
        "version": 3
      },
      "file_extension": ".py",
      "mimetype": "text/x-python",
      "name": "python",
      "nbconvert_exporter": "python",
      "pygments_lexer": "ipython3",
      "version": "3.7.2"
    },
    "colab": {
      "name": "lab_1_interest_functions.ipynb",
      "provenance": [],
      "include_colab_link": true
    }
  },
  "cells": [
    {
      "cell_type": "markdown",
      "metadata": {
        "id": "view-in-github",
        "colab_type": "text"
      },
      "source": [
        "<a href=\"https://colab.research.google.com/github/dcmdillon/lab1_interest_functions/blob/master/lab_1_interest_functions.ipynb\" target=\"_parent\"><img src=\"https://colab.research.google.com/assets/colab-badge.svg\" alt=\"Open In Colab\"/></a>"
      ]
    },
    {
      "cell_type": "markdown",
      "metadata": {
        "id": "9ib8ZxfayMLd",
        "colab_type": "text"
      },
      "source": [
        "## Lab 1 - Compound Interest Functions\n",
        "\n",
        "Below you will find a table of important formulae related to compound interest.  \n",
        "\n",
        "<img src=\"https://www.dummies.com/wp-content/uploads/251689.image0.jpg\" alt=\"image0.jpg\" width=\"400\" height=\"319\">\n",
        "\n",
        "In this lab, you will create functions for each of these using (and documenting) the following workflow.\n",
        "\n",
        "1. Work out the correct answer for a few examples. *Hint* Search for e.g. \"worked out compound interest examples\" on the web.\n",
        "2. Write a `lambda` function and test this function on your test cases.\n",
        "3. Convert the `lambda` function to a `def` statement with an informative doc string that follows the [Google formating rules](https://google.github.io/styleguide/pyguide.html#383-functions-and-methods).\n",
        "4. Write an automated test function (using your previous examples) that will test your `def` statement function each time the code is executed."
      ]
    },
    {
      "cell_type": "markdown",
      "metadata": {
        "id": "y2HGqt_IyMLe",
        "colab_type": "text"
      },
      "source": [
        "#### Problem 1 -- Apply the process to create a simple interest functions."
      ]
    },
    {
      "cell_type": "code",
      "metadata": {
        "id": "3L9Cc9VvyMLf",
        "colab_type": "code",
        "colab": {
          "base_uri": "https://localhost:8080/",
          "height": 34
        },
        "outputId": "049bda90-9bc4-40f3-c40b-cea4b0b478d2"
      },
      "source": [
        "p = 10000\n",
        "r = 0.03875\n",
        "t=5\n",
        "p*r*t"
      ],
      "execution_count": 14,
      "outputs": [
        {
          "output_type": "execute_result",
          "data": {
            "text/plain": [
              "1937.5"
            ]
          },
          "metadata": {
            "tags": []
          },
          "execution_count": 14
        }
      ]
    },
    {
      "cell_type": "code",
      "metadata": {
        "id": "4AWzScLSydXO",
        "colab_type": "code",
        "colab": {
          "base_uri": "https://localhost:8080/",
          "height": 34
        },
        "outputId": "c0ab5bbd-b3d7-4171-81fe-69057d920204"
      },
      "source": [
        "I =(lambda p,r,t:p*r*t)\n",
        "I(10000,0.03875,5)"
      ],
      "execution_count": 15,
      "outputs": [
        {
          "output_type": "execute_result",
          "data": {
            "text/plain": [
              "1937.5"
            ]
          },
          "metadata": {
            "tags": []
          },
          "execution_count": 15
        }
      ]
    },
    {
      "cell_type": "code",
      "metadata": {
        "id": "moJa0xiu1U7l",
        "colab_type": "code",
        "colab": {
          "base_uri": "https://localhost:8080/",
          "height": 34
        },
        "outputId": "a703d136-b96c-4a88-bfff-9d4966c700d5"
      },
      "source": [
        "def simple_intrest(p,r,t):\n",
        "  \"\"\"\n",
        "    Compute Simple Intresest\n",
        "    Args:\n",
        "        p: the prinicpal of the loan\n",
        "        r: the intrest rate\n",
        "        t: time elapsed\n",
        "    Returns:\n",
        "        The intrest  total on the loan\n",
        "\n",
        "  \"\"\"\n",
        "  output = p*r*t\n",
        "  return output\n",
        "\n",
        "simple_intrest(10000,0.03875,5)"
      ],
      "execution_count": 16,
      "outputs": [
        {
          "output_type": "execute_result",
          "data": {
            "text/plain": [
              "1937.5"
            ]
          },
          "metadata": {
            "tags": []
          },
          "execution_count": 16
        }
      ]
    },
    {
      "cell_type": "code",
      "metadata": {
        "id": "kbLP5car2xB_",
        "colab_type": "code",
        "colab": {}
      },
      "source": [
        "def test_simple_intrest():\n",
        "  assert simple_intrest(10000,0.03875,5) == 1937.5\n",
        "  assert simple_intrest(0,3.875,5) == 0\n",
        "  \n",
        "  test_simple_intrest()"
      ],
      "execution_count": 17,
      "outputs": []
    },
    {
      "cell_type": "code",
      "metadata": {
        "id": "Tm4e5h1E2tIE",
        "colab_type": "code",
        "colab": {}
      },
      "source": [
        ""
      ],
      "execution_count": null,
      "outputs": []
    },
    {
      "cell_type": "markdown",
      "metadata": {
        "id": "Z2VvM4ZjyMLj",
        "colab_type": "text"
      },
      "source": [
        "#### Problem 2 -- Apply the process to create a compound interest functions."
      ]
    },
    {
      "cell_type": "code",
      "metadata": {
        "id": "hTczJmgDyMLk",
        "colab_type": "code",
        "colab": {
          "base_uri": "https://localhost:8080/",
          "height": 34
        },
        "outputId": "d3be8c29-2bf5-436b-ad88-b9c43ce04ac9"
      },
      "source": [
        "p =10000\n",
        "r=0.03875\n",
        "t=5\n",
        "n=1\n",
        "p*((1+(r/n))**(n*t))"
      ],
      "execution_count": 18,
      "outputs": [
        {
          "output_type": "execute_result",
          "data": {
            "text/plain": [
              "12093.588412876925"
            ]
          },
          "metadata": {
            "tags": []
          },
          "execution_count": 18
        }
      ]
    },
    {
      "cell_type": "code",
      "metadata": {
        "id": "nT19isw-3kyC",
        "colab_type": "code",
        "colab": {
          "base_uri": "https://localhost:8080/",
          "height": 34
        },
        "outputId": "89679c06-0555-49e3-81d2-776df1edc827"
      },
      "source": [
        "CI = (lambda p,r,t,n:p*((1+(r/n))**(n*t)))\n",
        "CI(10000,0.03875,5,1)"
      ],
      "execution_count": 19,
      "outputs": [
        {
          "output_type": "execute_result",
          "data": {
            "text/plain": [
              "12093.588412876925"
            ]
          },
          "metadata": {
            "tags": []
          },
          "execution_count": 19
        }
      ]
    },
    {
      "cell_type": "code",
      "metadata": {
        "id": "o_Umuso53yJv",
        "colab_type": "code",
        "colab": {
          "base_uri": "https://localhost:8080/",
          "height": 34
        },
        "outputId": "16b25810-dde8-40c0-c4d2-5c546d8f04fa"
      },
      "source": [
        "def compound_intrest(p,r,t,n):\n",
        "  \"\"\"\n",
        "  Computes the compounded intrest for a loan\n",
        "\n",
        "  Args:\n",
        "      p: the prinicpal of the loan\n",
        "      r: the intrest rate\n",
        "      t: time elapsed\n",
        "      n: number of compoundings\n",
        "\n",
        "  Returns:\n",
        "    The compouned interest for the loan\n",
        "  \"\"\"\n",
        "  output = p*((1+(r/n))**(n*t))\n",
        "  return output\n",
        "\n",
        "compound_intrest(10000,0.03875,5,1)"
      ],
      "execution_count": 20,
      "outputs": [
        {
          "output_type": "execute_result",
          "data": {
            "text/plain": [
              "12093.588412876925"
            ]
          },
          "metadata": {
            "tags": []
          },
          "execution_count": 20
        }
      ]
    },
    {
      "cell_type": "code",
      "metadata": {
        "id": "XSg3Z4Ru5iQM",
        "colab_type": "code",
        "colab": {}
      },
      "source": [
        "def test_compound_interest():\n",
        "  assert compound_intrest(10000,0.03875,5,1) == 12093.588412876925\n",
        "  assert compound_intrest(0,3.875,5,1) == 0\n",
        "\n",
        "test_compound_interest()"
      ],
      "execution_count": 21,
      "outputs": []
    },
    {
      "cell_type": "code",
      "metadata": {
        "id": "aerEOpVW3sdu",
        "colab_type": "code",
        "colab": {}
      },
      "source": [
        ""
      ],
      "execution_count": null,
      "outputs": []
    },
    {
      "cell_type": "markdown",
      "metadata": {
        "id": "8HOVIVLgyMLn",
        "colab_type": "text"
      },
      "source": [
        "#### Problem 3 -- Apply the process to create a amortized loan payment function."
      ]
    },
    {
      "cell_type": "code",
      "metadata": {
        "id": "oGDBdRX5yMLn",
        "colab_type": "code",
        "colab": {
          "base_uri": "https://localhost:8080/",
          "height": 34
        },
        "outputId": "2516e695-19d6-4865-d911-35e2a781e03b"
      },
      "source": [
        "p=10000\n",
        "i = 0.03875\n",
        "n = 6\n",
        "(p*i)/(1- ((1 + i)**-n))"
      ],
      "execution_count": 23,
      "outputs": [
        {
          "output_type": "execute_result",
          "data": {
            "text/plain": [
              "1899.8633475850986"
            ]
          },
          "metadata": {
            "tags": []
          },
          "execution_count": 23
        }
      ]
    },
    {
      "cell_type": "code",
      "metadata": {
        "id": "sHQVRD5VLAdE",
        "colab_type": "code",
        "colab": {
          "base_uri": "https://localhost:8080/",
          "height": 34
        },
        "outputId": "93efd27e-6bf3-4ac8-988f-996d65ff5423"
      },
      "source": [
        "R = (lambda p,i,n:(p*i)/(1- ((1 + i)**-n)))\n",
        "R(10000, 0.03875,6)"
      ],
      "execution_count": 25,
      "outputs": [
        {
          "output_type": "execute_result",
          "data": {
            "text/plain": [
              "1899.8633475850986"
            ]
          },
          "metadata": {
            "tags": []
          },
          "execution_count": 25
        }
      ]
    },
    {
      "cell_type": "code",
      "metadata": {
        "id": "jJKkqaBXNI1h",
        "colab_type": "code",
        "colab": {
          "base_uri": "https://localhost:8080/",
          "height": 34
        },
        "outputId": "ef159cd9-5c28-43c4-f7c1-0324a9cf7677"
      },
      "source": [
        "def amortization_payment(p,i,n):\n",
        "  \"\"\"\n",
        "    Calculates the payment amount per period including interest.\n",
        "\n",
        "    Args:\n",
        "      p: amount borrowed\n",
        "      i: intrest rate per period\n",
        "      n: number of payments\n",
        "    Returns:\n",
        "      The Payment amount after intrest\n",
        "  \"\"\"\n",
        "  output = (p*i)/(1- ((1 + i)**-n))\n",
        "  return output\n",
        "\n",
        "amortization_payment(10000, 0.03875,6)"
      ],
      "execution_count": 28,
      "outputs": [
        {
          "output_type": "execute_result",
          "data": {
            "text/plain": [
              "1899.8633475850986"
            ]
          },
          "metadata": {
            "tags": []
          },
          "execution_count": 28
        }
      ]
    },
    {
      "cell_type": "code",
      "metadata": {
        "id": "l7GRJ_FxUlJ4",
        "colab_type": "code",
        "colab": {}
      },
      "source": [
        "def test_amortization_payment():\n",
        "  assert amortization_payment(10000, 0.03875,6) == 1899.8633475850986\n",
        "  assert amortization_payment(10000, 0.07, 6) == 2097.9579975832803\n",
        "\n",
        "test_amortization_payment()"
      ],
      "execution_count": 30,
      "outputs": []
    },
    {
      "cell_type": "markdown",
      "metadata": {
        "id": "IX0I_zTvyMLq",
        "colab_type": "text"
      },
      "source": [
        "#### Problem 4 -- Apply the process to create a remaining balance function"
      ]
    },
    {
      "cell_type": "code",
      "metadata": {
        "id": "x91plz-4yMLr",
        "colab_type": "code",
        "colab": {}
      },
      "source": [
        "r\n",
        "i\n",
        "nx"
      ],
      "execution_count": null,
      "outputs": []
    }
  ]
}